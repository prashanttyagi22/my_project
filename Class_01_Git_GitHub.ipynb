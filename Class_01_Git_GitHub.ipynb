{
 "cells": [
  {
   "cell_type": "code",
   "execution_count": null,
   "metadata": {},
   "outputs": [],
   "source": [
    "Git - VCS - Version Control System - SCM - Source Control Management tool\n",
    "\n",
    "# v.1\n",
    "# v.2\n",
    "\n",
    "VCS - A mini file tracking system\n",
    "Maintain the History of changes into the file\n",
    "Retreiving the files\n",
    "\n",
    "Two types of VCS\n",
    "    1. CVCS - Central Server -> \n",
    "    2. DVCS - \n",
    "\n",
    "Git - DVCS\n",
    "\n",
    "\n"
   ]
  },
  {
   "cell_type": "code",
   "execution_count": null,
   "metadata": {},
   "outputs": [],
   "source": [
    "CLI -\n",
    "GUI"
   ]
  },
  {
   "cell_type": "code",
   "execution_count": null,
   "metadata": {},
   "outputs": [],
   "source": [
    "Windows - Git Bash\n",
    "Mac - terminal"
   ]
  },
  {
   "cell_type": "code",
   "execution_count": null,
   "metadata": {},
   "outputs": [],
   "source": [
    "vigneshs-MacBook-Air% pwd\n",
    "    /Users/vigneshkarthick\n",
    "vigneshs-MacBook-Air% ls\n",
    "    Abhishek\t\tLibrary\t\t\tPublic\n",
    "    Applications\t\tMEGAsync Downloads\tPycharmProjects\n",
    "    Desktop\t\t\tMovies\t\t\t__pycache__\n",
    "    Documents\t\tMusic\t\t\tanaconda3\n",
    "    Downloads\t\tMy_Eshop\t\tseaborn-data\n",
    "    IdeaProjects\t\tPictures\n",
    "vigneshs-MacBook-Air% cd Desktop\n",
    "vigneshs-MacBook-Air% pwd\n",
    "    /Users/vigneshkarthick/Desktop\n",
    "vigneshs-MacBook-Air%  \n",
    "    mkdir: my_project: File exists\n",
    "vigneshs-MacBook-Air% rm -rf my_project\n",
    "vigneshs-MacBook-Air% mkdir my_project \n",
    "vigneshs-MacBook-Air% ls\n",
    "    my_project\n",
    "vigneshs-MacBook-Air% cd my_project\n",
    "vigneshs-MacBook-Air% pwd\n",
    "    /Users/vigneshkarthick/Desktop/my_project\n",
    "vigneshs-MacBook-Air% pwd\n",
    "    /Users/vigneshkarthick/Desktop/my_project\n",
    "vigneshs-MacBook-Air% ls\n",
    "vigneshs-MacBook-Air% ls -al\n",
    "    total 0\n",
    "    drwxr-xr-x   2 vigneshkarthick  staff    64 May 17 09:08 .\n",
    "    drwx------+ 56 vigneshkarthick  staff  1792 May 17 09:08 ..\n",
    "vigneshs-MacBook-Air% git init\n",
    "    Initialized empty Git repository in /Users/vigneshkarthick/Desktop/my_project/.git/\n",
    "vigneshs-MacBook-Air% ls -al\n",
    "    total 0\n",
    "    drwxr-xr-x   3 vigneshkarthick  staff    96 May 17 09:11 .\n",
    "    drwx------+ 56 vigneshkarthick  staff  1792 May 17 09:08 ..\n",
    "    drwxr-xr-x   9 vigneshkarthick  staff   288 May 17 09:11 .git\n",
    "vigneshs-MacBook-Air% pwd\n",
    "    /Users/vigneshkarthick/Desktop/my_project\n",
    "vigneshs-MacBook-Air% git remote add origin https://github.com/AbhsihekJagdishwar/Website_Project.git\n",
    "vigneshs-MacBook-Air% git remote -v\n",
    "    origin\thttps://github.com/AbhsihekJagdishwar/Website_Project.git (fetch)\n",
    "    origin\thttps://github.com/AbhsihekJagdishwar/Website_Project.git (push)\n",
    "vigneshs-MacBook-Air% touch f1.py\n",
    "vigneshs-MacBook-Air% ls\n",
    "    f1.py\n",
    "vigneshs-MacBook-Air% cat f1.py\n",
    "vigneshs-MacBook-Air% touch f1.txt\n",
    "vigneshs-MacBook-Air% ls\n",
    "    f1.py\tf1.txt\n",
    "vigneshs-MacBook-Air% echo \"Hello World\"\n",
    "    Hello World\n",
    "vigneshs-MacBook-Air% echo \"Hello World\" > f1.html\n",
    "vigneshs-MacBook-Air% ls\n",
    "    f1.html\tf1.py\tf1.txt\n",
    "vigneshs-MacBook-Air% cat f1.html\n",
    "    Hello World\n",
    "vigneshs-MacBook-Air% vim f2.py\n",
    "vigneshs-MacBook-Air% cat f2.py\n",
    "    a = 10\n",
    "    b = 20\n",
    "    c = a+b\n",
    "    print(c)\n",
    "vigneshs-MacBook-Air% touch f2.txt\n",
    "vigneshs-MacBook-Air% touch f2.html\n",
    "vigneshs-MacBook-Air% touch f3.py\n",
    "vigneshs-MacBook-Air% touch f3.html\n",
    "vigneshs-MacBook-Air% touch f3.txt\n",
    "vigneshs-MacBook-Air% touch f4.py f4.txt f4.html\n",
    "vigneshs-MacBook-Air% ls\n",
    "    f1.html\tf1.txt\tf2.py\tf3.html\tf3.txt\tf4.py\n",
    "    f1.py\tf2.html\tf2.txt\tf3.py\tf4.html\tf4.txt\n",
    "vigneshs-MacBook-Air% pwd\n",
    "    /Users/vigneshkarthick/Desktop/my_project\n",
    "vigneshs-MacBook-Air% git status\n",
    "    On branch master\n",
    "\n",
    "    No commits yet\n",
    "\n",
    "    Untracked files:\n",
    "      (use \"git add <file>...\" to include in what will be committed)\n",
    "        f1.html\n",
    "        f1.py\n",
    "        f1.txt\n",
    "        f2.html\n",
    "        f2.py\n",
    "        f2.txt\n",
    "        f3.html\n",
    "        f3.py\n",
    "        f3.txt\n",
    "        f4.html\n",
    "        f4.py\n",
    "        f4.txt\n",
    "\n",
    "    nothing added to commit but untracked files present (use \"git add\" to track)\n",
    "vigneshs-MacBook-Air% clear\n",
    "\n",
    "vigneshs-MacBook-Air% git add f1.py\n",
    "vigneshs-MacBook-Air% git status\n",
    "    On branch master\n",
    "\n",
    "    No commits yet\n",
    "\n",
    "    Changes to be committed:\n",
    "      (use \"git rm --cached <file>...\" to unstage)\n",
    "        new file:   f1.py\n",
    "\n",
    "    Untracked files:\n",
    "      (use \"git add <file>...\" to include in what will be committed)\n",
    "        f1.html\n",
    "        f1.txt\n",
    "        f2.html\n",
    "        f2.py\n",
    "        f2.txt\n",
    "        f3.html\n",
    "        f3.py\n",
    "        f3.txt\n",
    "        f4.html\n",
    "        f4.py\n",
    "        f4.txt\n",
    "\n",
    "vigneshs-MacBook-Air% git add f1.html f1.txt\n",
    "vigneshs-MacBook-Air% git status            \n",
    "    On branch master\n",
    "\n",
    "    No commits yet\n",
    "\n",
    "    Changes to be committed:\n",
    "      (use \"git rm --cached <file>...\" to unstage)\n",
    "        new file:   f1.html\n",
    "        new file:   f1.py\n",
    "        new file:   f1.txt\n",
    "\n",
    "    Untracked files:\n",
    "      (use \"git add <file>...\" to include in what will be committed)\n",
    "        f2.html\n",
    "        f2.py\n",
    "        f2.txt\n",
    "        f3.html\n",
    "        f3.py\n",
    "        f3.txt\n",
    "        f4.html\n",
    "        f4.py\n",
    "        f4.txt\n",
    "\n",
    "vigneshs-MacBook-Air% git add *.py\n",
    "vigneshs-MacBook-Air% git status  \n",
    "    On branch master\n",
    "\n",
    "    No commits yet\n",
    "\n",
    "    Changes to be committed:\n",
    "      (use \"git rm --cached <file>...\" to unstage)\n",
    "        new file:   f1.html\n",
    "        new file:   f1.py\n",
    "        new file:   f1.txt\n",
    "        new file:   f2.py\n",
    "        new file:   f3.py\n",
    "        new file:   f4.py\n",
    "\n",
    "    Untracked files:\n",
    "      (use \"git add <file>...\" to include in what will be committed)\n",
    "        f2.html\n",
    "        f2.txt\n",
    "        f3.html\n",
    "        f3.txt\n",
    "        f4.html\n",
    "        f4.txt\n",
    "\n",
    "vigneshs-MacBook-Air% git add .\n",
    "vigneshs-MacBook-Air% git status\n",
    "    On branch master\n",
    "\n",
    "    No commits yet\n",
    "\n",
    "    Changes to be committed:\n",
    "      (use \"git rm --cached <file>...\" to unstage)\n",
    "        new file:   f1.html\n",
    "        new file:   f1.py\n",
    "        new file:   f1.txt\n",
    "        new file:   f2.html\n",
    "        new file:   f2.py\n",
    "        new file:   f2.txt\n",
    "        new file:   f3.html\n",
    "        new file:   f3.py\n",
    "        new file:   f3.txt\n",
    "        new file:   f4.html\n",
    "        new file:   f4.py\n",
    "        new file:   f4.txt\n",
    "\n",
    "vigneshs-MacBook-Air% git config --global --list                       \n",
    "    user.name=Abhishek\n",
    "    user.email=abhi-shek@gmail.com\n",
    "    core.editor=mate -w\n",
    "    core.autocrlf=input\n",
    "vigneshs-MacBook-Air% git status                                     \n",
    "    On branch master\n",
    "    nothing to commit, working tree clean\n",
    "vigneshs-MacBook-Air% git branch              \n",
    "    * master\n",
    "vigneshs-MacBook-Air% git push -f origin master\n",
    "    Username for 'https://github.com': ibuddhagupta@gmail.com\n",
    "    Password for 'https://ibuddhagupta@gmail.com@github.com': \n",
    "    Enumerating objects: 5, done.\n",
    "    Counting objects: 100% (5/5), done.\n",
    "    Delta compression using up to 4 threads\n",
    "    Compressing objects: 100% (2/2), done.\n",
    "    Writing objects: 100% (5/5), 357 bytes | 178.00 KiB/s, done.\n",
    "    Total 5 (delta 0), reused 0 (delta 0), pack-reused 0\n",
    "    To https://github.com/AbhsihekJagdishwar/Website_Project.git\n",
    "     * [new branch]      master -> master"
   ]
  },
  {
   "cell_type": "code",
   "execution_count": null,
   "metadata": {},
   "outputs": [],
   "source": []
  },
  {
   "cell_type": "code",
   "execution_count": null,
   "metadata": {},
   "outputs": [],
   "source": []
  },
  {
   "cell_type": "code",
   "execution_count": null,
   "metadata": {},
   "outputs": [],
   "source": []
  },
  {
   "cell_type": "code",
   "execution_count": null,
   "metadata": {},
   "outputs": [],
   "source": []
  },
  {
   "cell_type": "code",
   "execution_count": null,
   "metadata": {},
   "outputs": [],
   "source": []
  },
  {
   "cell_type": "code",
   "execution_count": null,
   "metadata": {},
   "outputs": [],
   "source": []
  },
  {
   "cell_type": "code",
   "execution_count": null,
   "metadata": {},
   "outputs": [],
   "source": []
  },
  {
   "cell_type": "code",
   "execution_count": null,
   "metadata": {},
   "outputs": [],
   "source": []
  },
  {
   "cell_type": "code",
   "execution_count": null,
   "metadata": {},
   "outputs": [],
   "source": []
  },
  {
   "cell_type": "code",
   "execution_count": null,
   "metadata": {},
   "outputs": [],
   "source": []
  },
  {
   "cell_type": "code",
   "execution_count": null,
   "metadata": {},
   "outputs": [],
   "source": []
  },
  {
   "cell_type": "code",
   "execution_count": null,
   "metadata": {},
   "outputs": [],
   "source": []
  },
  {
   "cell_type": "code",
   "execution_count": null,
   "metadata": {},
   "outputs": [],
   "source": []
  },
  {
   "cell_type": "code",
   "execution_count": null,
   "metadata": {},
   "outputs": [],
   "source": []
  },
  {
   "cell_type": "code",
   "execution_count": null,
   "metadata": {},
   "outputs": [],
   "source": []
  },
  {
   "cell_type": "code",
   "execution_count": null,
   "metadata": {},
   "outputs": [],
   "source": []
  },
  {
   "cell_type": "code",
   "execution_count": null,
   "metadata": {},
   "outputs": [],
   "source": []
  },
  {
   "cell_type": "code",
   "execution_count": null,
   "metadata": {},
   "outputs": [],
   "source": []
  },
  {
   "cell_type": "code",
   "execution_count": null,
   "metadata": {},
   "outputs": [],
   "source": []
  },
  {
   "cell_type": "code",
   "execution_count": null,
   "metadata": {},
   "outputs": [],
   "source": []
  },
  {
   "cell_type": "code",
   "execution_count": null,
   "metadata": {},
   "outputs": [],
   "source": []
  },
  {
   "cell_type": "code",
   "execution_count": null,
   "metadata": {},
   "outputs": [],
   "source": []
  },
  {
   "cell_type": "code",
   "execution_count": null,
   "metadata": {},
   "outputs": [],
   "source": []
  },
  {
   "cell_type": "code",
   "execution_count": null,
   "metadata": {},
   "outputs": [],
   "source": []
  },
  {
   "cell_type": "code",
   "execution_count": null,
   "metadata": {},
   "outputs": [],
   "source": []
  },
  {
   "cell_type": "code",
   "execution_count": null,
   "metadata": {},
   "outputs": [],
   "source": []
  },
  {
   "cell_type": "code",
   "execution_count": null,
   "metadata": {},
   "outputs": [],
   "source": []
  },
  {
   "cell_type": "code",
   "execution_count": null,
   "metadata": {},
   "outputs": [],
   "source": []
  },
  {
   "cell_type": "code",
   "execution_count": null,
   "metadata": {},
   "outputs": [],
   "source": []
  },
  {
   "cell_type": "code",
   "execution_count": null,
   "metadata": {},
   "outputs": [],
   "source": []
  },
  {
   "cell_type": "code",
   "execution_count": null,
   "metadata": {},
   "outputs": [],
   "source": []
  },
  {
   "cell_type": "code",
   "execution_count": null,
   "metadata": {},
   "outputs": [],
   "source": []
  },
  {
   "cell_type": "code",
   "execution_count": null,
   "metadata": {},
   "outputs": [],
   "source": []
  },
  {
   "cell_type": "code",
   "execution_count": null,
   "metadata": {},
   "outputs": [],
   "source": []
  },
  {
   "cell_type": "code",
   "execution_count": null,
   "metadata": {},
   "outputs": [],
   "source": []
  },
  {
   "cell_type": "code",
   "execution_count": null,
   "metadata": {},
   "outputs": [],
   "source": []
  },
  {
   "cell_type": "code",
   "execution_count": null,
   "metadata": {},
   "outputs": [],
   "source": []
  },
  {
   "cell_type": "code",
   "execution_count": null,
   "metadata": {},
   "outputs": [],
   "source": []
  },
  {
   "cell_type": "code",
   "execution_count": null,
   "metadata": {},
   "outputs": [],
   "source": []
  },
  {
   "cell_type": "code",
   "execution_count": null,
   "metadata": {},
   "outputs": [],
   "source": []
  },
  {
   "cell_type": "code",
   "execution_count": null,
   "metadata": {},
   "outputs": [],
   "source": []
  },
  {
   "cell_type": "code",
   "execution_count": null,
   "metadata": {},
   "outputs": [],
   "source": []
  },
  {
   "cell_type": "code",
   "execution_count": null,
   "metadata": {},
   "outputs": [],
   "source": []
  },
  {
   "cell_type": "code",
   "execution_count": null,
   "metadata": {},
   "outputs": [],
   "source": []
  },
  {
   "cell_type": "code",
   "execution_count": null,
   "metadata": {},
   "outputs": [],
   "source": []
  },
  {
   "cell_type": "code",
   "execution_count": null,
   "metadata": {},
   "outputs": [],
   "source": []
  },
  {
   "cell_type": "code",
   "execution_count": null,
   "metadata": {},
   "outputs": [],
   "source": []
  }
 ],
 "metadata": {
  "kernelspec": {
   "display_name": "Python 3",
   "language": "python",
   "name": "python3"
  },
  "language_info": {
   "codemirror_mode": {
    "name": "ipython",
    "version": 3
   },
   "file_extension": ".py",
   "mimetype": "text/x-python",
   "name": "python",
   "nbconvert_exporter": "python",
   "pygments_lexer": "ipython3",
   "version": "3.8.5"
  },
  "latex_envs": {
   "LaTeX_envs_menu_present": true,
   "autoclose": false,
   "autocomplete": true,
   "bibliofile": "biblio.bib",
   "cite_by": "apalike",
   "current_citInitial": 1,
   "eqLabelWithNumbers": true,
   "eqNumInitial": 1,
   "hotkeys": {
    "equation": "Ctrl-E",
    "itemize": "Ctrl-I"
   },
   "labels_anchors": false,
   "latex_user_defs": false,
   "report_style_numbering": false,
   "user_envs_cfg": false
  },
  "varInspector": {
   "cols": {
    "lenName": 16,
    "lenType": 16,
    "lenVar": 40
   },
   "kernels_config": {
    "python": {
     "delete_cmd_postfix": "",
     "delete_cmd_prefix": "del ",
     "library": "var_list.py",
     "varRefreshCmd": "print(var_dic_list())"
    },
    "r": {
     "delete_cmd_postfix": ") ",
     "delete_cmd_prefix": "rm(",
     "library": "var_list.r",
     "varRefreshCmd": "cat(var_dic_list()) "
    }
   },
   "types_to_exclude": [
    "module",
    "function",
    "builtin_function_or_method",
    "instance",
    "_Feature"
   ],
   "window_display": false
  }
 },
 "nbformat": 4,
 "nbformat_minor": 2
}
